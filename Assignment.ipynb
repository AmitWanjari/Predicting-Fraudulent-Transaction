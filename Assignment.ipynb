{
 "cells": [
  {
   "cell_type": "markdown",
   "id": "1e07d7ee",
   "metadata": {},
   "source": [
    "#### Building a model for Predicting Fraudulent Transactions for a financial company. "
   ]
  },
  {
   "cell_type": "markdown",
   "id": "b78be2c0",
   "metadata": {},
   "source": [
    "#### 1. Importing Libraries "
   ]
  },
  {
   "cell_type": "code",
   "execution_count": null,
   "id": "05d0cf00",
   "metadata": {},
   "outputs": [],
   "source": [
    "import numpy as np\n",
    "import pandas as pd\n",
    "import seaborn as sns \n",
    "import matplotlib.pyplot as plt\n",
    "import warnings\n",
    "warnings.filterwarnings('ignore')\n",
    "from sklearn.preprocessing import LabelEncoder\n",
    "from sklearn.model_selection import train_test_split, GridSearchCV\n",
    "from sklearn.linear_model import LogisticRegression \n",
    "import sklearn.metrics as metrics\n",
    "from sklearn.metrics import accuracy_score, f1_score, roc_auc_score,roc_curve,classification_report,confusion_matrix\n",
    "from imblearn.over_sampling import SMOTE\n",
    "from sklearn.compose import ColumnTransformer\n",
    "from sklearn.preprocessing import OneHotEncoder\n",
    "from sklearn import preprocessing\n",
    "from sklearn.preprocessing import MinMaxScaler"
   ]
  },
  {
   "cell_type": "markdown",
   "id": "c3838c33",
   "metadata": {},
   "source": [
    "#### 2. Reading Data"
   ]
  },
  {
   "cell_type": "code",
   "execution_count": 2,
   "id": "70c5f933",
   "metadata": {},
   "outputs": [],
   "source": [
    "df=pd.read_csv(r'C:\\Users\\Amit\\Downloads\\Fraud.csv')"
   ]
  },
  {
   "cell_type": "code",
   "execution_count": 3,
   "id": "c79d6b6e",
   "metadata": {
    "scrolled": false
   },
   "outputs": [
    {
     "data": {
      "text/html": [
       "<div>\n",
       "<style scoped>\n",
       "    .dataframe tbody tr th:only-of-type {\n",
       "        vertical-align: middle;\n",
       "    }\n",
       "\n",
       "    .dataframe tbody tr th {\n",
       "        vertical-align: top;\n",
       "    }\n",
       "\n",
       "    .dataframe thead th {\n",
       "        text-align: right;\n",
       "    }\n",
       "</style>\n",
       "<table border=\"1\" class=\"dataframe\">\n",
       "  <thead>\n",
       "    <tr style=\"text-align: right;\">\n",
       "      <th></th>\n",
       "      <th>step</th>\n",
       "      <th>type</th>\n",
       "      <th>amount</th>\n",
       "      <th>nameOrig</th>\n",
       "      <th>oldbalanceOrg</th>\n",
       "      <th>newbalanceOrig</th>\n",
       "      <th>nameDest</th>\n",
       "      <th>oldbalanceDest</th>\n",
       "      <th>newbalanceDest</th>\n",
       "      <th>isFraud</th>\n",
       "      <th>isFlaggedFraud</th>\n",
       "    </tr>\n",
       "  </thead>\n",
       "  <tbody>\n",
       "    <tr>\n",
       "      <th>0</th>\n",
       "      <td>1</td>\n",
       "      <td>PAYMENT</td>\n",
       "      <td>9839.64</td>\n",
       "      <td>C1231006815</td>\n",
       "      <td>170136.0</td>\n",
       "      <td>160296.36</td>\n",
       "      <td>M1979787155</td>\n",
       "      <td>0.0</td>\n",
       "      <td>0.0</td>\n",
       "      <td>0</td>\n",
       "      <td>0</td>\n",
       "    </tr>\n",
       "    <tr>\n",
       "      <th>1</th>\n",
       "      <td>1</td>\n",
       "      <td>PAYMENT</td>\n",
       "      <td>1864.28</td>\n",
       "      <td>C1666544295</td>\n",
       "      <td>21249.0</td>\n",
       "      <td>19384.72</td>\n",
       "      <td>M2044282225</td>\n",
       "      <td>0.0</td>\n",
       "      <td>0.0</td>\n",
       "      <td>0</td>\n",
       "      <td>0</td>\n",
       "    </tr>\n",
       "    <tr>\n",
       "      <th>2</th>\n",
       "      <td>1</td>\n",
       "      <td>TRANSFER</td>\n",
       "      <td>181.00</td>\n",
       "      <td>C1305486145</td>\n",
       "      <td>181.0</td>\n",
       "      <td>0.00</td>\n",
       "      <td>C553264065</td>\n",
       "      <td>0.0</td>\n",
       "      <td>0.0</td>\n",
       "      <td>1</td>\n",
       "      <td>0</td>\n",
       "    </tr>\n",
       "    <tr>\n",
       "      <th>3</th>\n",
       "      <td>1</td>\n",
       "      <td>CASH_OUT</td>\n",
       "      <td>181.00</td>\n",
       "      <td>C840083671</td>\n",
       "      <td>181.0</td>\n",
       "      <td>0.00</td>\n",
       "      <td>C38997010</td>\n",
       "      <td>21182.0</td>\n",
       "      <td>0.0</td>\n",
       "      <td>1</td>\n",
       "      <td>0</td>\n",
       "    </tr>\n",
       "    <tr>\n",
       "      <th>4</th>\n",
       "      <td>1</td>\n",
       "      <td>PAYMENT</td>\n",
       "      <td>11668.14</td>\n",
       "      <td>C2048537720</td>\n",
       "      <td>41554.0</td>\n",
       "      <td>29885.86</td>\n",
       "      <td>M1230701703</td>\n",
       "      <td>0.0</td>\n",
       "      <td>0.0</td>\n",
       "      <td>0</td>\n",
       "      <td>0</td>\n",
       "    </tr>\n",
       "  </tbody>\n",
       "</table>\n",
       "</div>"
      ],
      "text/plain": [
       "   step      type    amount     nameOrig  oldbalanceOrg  newbalanceOrig  \\\n",
       "0     1   PAYMENT   9839.64  C1231006815       170136.0       160296.36   \n",
       "1     1   PAYMENT   1864.28  C1666544295        21249.0        19384.72   \n",
       "2     1  TRANSFER    181.00  C1305486145          181.0            0.00   \n",
       "3     1  CASH_OUT    181.00   C840083671          181.0            0.00   \n",
       "4     1   PAYMENT  11668.14  C2048537720        41554.0        29885.86   \n",
       "\n",
       "      nameDest  oldbalanceDest  newbalanceDest  isFraud  isFlaggedFraud  \n",
       "0  M1979787155             0.0             0.0        0               0  \n",
       "1  M2044282225             0.0             0.0        0               0  \n",
       "2   C553264065             0.0             0.0        1               0  \n",
       "3    C38997010         21182.0             0.0        1               0  \n",
       "4  M1230701703             0.0             0.0        0               0  "
      ]
     },
     "execution_count": 3,
     "metadata": {},
     "output_type": "execute_result"
    }
   ],
   "source": [
    "df.head()"
   ]
  },
  {
   "cell_type": "markdown",
   "id": "54269d88",
   "metadata": {},
   "source": [
    "#### 3. Data Info "
   ]
  },
  {
   "cell_type": "code",
   "execution_count": 4,
   "id": "b316e198",
   "metadata": {},
   "outputs": [
    {
     "name": "stdout",
     "output_type": "stream",
     "text": [
      "<class 'pandas.core.frame.DataFrame'>\n",
      "RangeIndex: 6362620 entries, 0 to 6362619\n",
      "Data columns (total 11 columns):\n",
      " #   Column          Dtype  \n",
      "---  ------          -----  \n",
      " 0   step            int64  \n",
      " 1   type            object \n",
      " 2   amount          float64\n",
      " 3   nameOrig        object \n",
      " 4   oldbalanceOrg   float64\n",
      " 5   newbalanceOrig  float64\n",
      " 6   nameDest        object \n",
      " 7   oldbalanceDest  float64\n",
      " 8   newbalanceDest  float64\n",
      " 9   isFraud         int64  \n",
      " 10  isFlaggedFraud  int64  \n",
      "dtypes: float64(5), int64(3), object(3)\n",
      "memory usage: 534.0+ MB\n"
     ]
    }
   ],
   "source": [
    "df.info()"
   ]
  },
  {
   "cell_type": "code",
   "execution_count": 5,
   "id": "6b0856cc",
   "metadata": {},
   "outputs": [
    {
     "data": {
      "text/html": [
       "<div>\n",
       "<style scoped>\n",
       "    .dataframe tbody tr th:only-of-type {\n",
       "        vertical-align: middle;\n",
       "    }\n",
       "\n",
       "    .dataframe tbody tr th {\n",
       "        vertical-align: top;\n",
       "    }\n",
       "\n",
       "    .dataframe thead th {\n",
       "        text-align: right;\n",
       "    }\n",
       "</style>\n",
       "<table border=\"1\" class=\"dataframe\">\n",
       "  <thead>\n",
       "    <tr style=\"text-align: right;\">\n",
       "      <th></th>\n",
       "      <th>step</th>\n",
       "      <th>amount</th>\n",
       "      <th>oldbalanceOrg</th>\n",
       "      <th>newbalanceOrig</th>\n",
       "      <th>oldbalanceDest</th>\n",
       "      <th>newbalanceDest</th>\n",
       "      <th>isFraud</th>\n",
       "      <th>isFlaggedFraud</th>\n",
       "    </tr>\n",
       "  </thead>\n",
       "  <tbody>\n",
       "    <tr>\n",
       "      <th>count</th>\n",
       "      <td>6.362620e+06</td>\n",
       "      <td>6.362620e+06</td>\n",
       "      <td>6.362620e+06</td>\n",
       "      <td>6.362620e+06</td>\n",
       "      <td>6.362620e+06</td>\n",
       "      <td>6.362620e+06</td>\n",
       "      <td>6.362620e+06</td>\n",
       "      <td>6.362620e+06</td>\n",
       "    </tr>\n",
       "    <tr>\n",
       "      <th>mean</th>\n",
       "      <td>2.433972e+02</td>\n",
       "      <td>1.798619e+05</td>\n",
       "      <td>8.338831e+05</td>\n",
       "      <td>8.551137e+05</td>\n",
       "      <td>1.100702e+06</td>\n",
       "      <td>1.224996e+06</td>\n",
       "      <td>1.290820e-03</td>\n",
       "      <td>2.514687e-06</td>\n",
       "    </tr>\n",
       "    <tr>\n",
       "      <th>std</th>\n",
       "      <td>1.423320e+02</td>\n",
       "      <td>6.038582e+05</td>\n",
       "      <td>2.888243e+06</td>\n",
       "      <td>2.924049e+06</td>\n",
       "      <td>3.399180e+06</td>\n",
       "      <td>3.674129e+06</td>\n",
       "      <td>3.590480e-02</td>\n",
       "      <td>1.585775e-03</td>\n",
       "    </tr>\n",
       "    <tr>\n",
       "      <th>min</th>\n",
       "      <td>1.000000e+00</td>\n",
       "      <td>0.000000e+00</td>\n",
       "      <td>0.000000e+00</td>\n",
       "      <td>0.000000e+00</td>\n",
       "      <td>0.000000e+00</td>\n",
       "      <td>0.000000e+00</td>\n",
       "      <td>0.000000e+00</td>\n",
       "      <td>0.000000e+00</td>\n",
       "    </tr>\n",
       "    <tr>\n",
       "      <th>25%</th>\n",
       "      <td>1.560000e+02</td>\n",
       "      <td>1.338957e+04</td>\n",
       "      <td>0.000000e+00</td>\n",
       "      <td>0.000000e+00</td>\n",
       "      <td>0.000000e+00</td>\n",
       "      <td>0.000000e+00</td>\n",
       "      <td>0.000000e+00</td>\n",
       "      <td>0.000000e+00</td>\n",
       "    </tr>\n",
       "    <tr>\n",
       "      <th>50%</th>\n",
       "      <td>2.390000e+02</td>\n",
       "      <td>7.487194e+04</td>\n",
       "      <td>1.420800e+04</td>\n",
       "      <td>0.000000e+00</td>\n",
       "      <td>1.327057e+05</td>\n",
       "      <td>2.146614e+05</td>\n",
       "      <td>0.000000e+00</td>\n",
       "      <td>0.000000e+00</td>\n",
       "    </tr>\n",
       "    <tr>\n",
       "      <th>75%</th>\n",
       "      <td>3.350000e+02</td>\n",
       "      <td>2.087215e+05</td>\n",
       "      <td>1.073152e+05</td>\n",
       "      <td>1.442584e+05</td>\n",
       "      <td>9.430367e+05</td>\n",
       "      <td>1.111909e+06</td>\n",
       "      <td>0.000000e+00</td>\n",
       "      <td>0.000000e+00</td>\n",
       "    </tr>\n",
       "    <tr>\n",
       "      <th>max</th>\n",
       "      <td>7.430000e+02</td>\n",
       "      <td>9.244552e+07</td>\n",
       "      <td>5.958504e+07</td>\n",
       "      <td>4.958504e+07</td>\n",
       "      <td>3.560159e+08</td>\n",
       "      <td>3.561793e+08</td>\n",
       "      <td>1.000000e+00</td>\n",
       "      <td>1.000000e+00</td>\n",
       "    </tr>\n",
       "  </tbody>\n",
       "</table>\n",
       "</div>"
      ],
      "text/plain": [
       "               step        amount  oldbalanceOrg  newbalanceOrig  \\\n",
       "count  6.362620e+06  6.362620e+06   6.362620e+06    6.362620e+06   \n",
       "mean   2.433972e+02  1.798619e+05   8.338831e+05    8.551137e+05   \n",
       "std    1.423320e+02  6.038582e+05   2.888243e+06    2.924049e+06   \n",
       "min    1.000000e+00  0.000000e+00   0.000000e+00    0.000000e+00   \n",
       "25%    1.560000e+02  1.338957e+04   0.000000e+00    0.000000e+00   \n",
       "50%    2.390000e+02  7.487194e+04   1.420800e+04    0.000000e+00   \n",
       "75%    3.350000e+02  2.087215e+05   1.073152e+05    1.442584e+05   \n",
       "max    7.430000e+02  9.244552e+07   5.958504e+07    4.958504e+07   \n",
       "\n",
       "       oldbalanceDest  newbalanceDest       isFraud  isFlaggedFraud  \n",
       "count    6.362620e+06    6.362620e+06  6.362620e+06    6.362620e+06  \n",
       "mean     1.100702e+06    1.224996e+06  1.290820e-03    2.514687e-06  \n",
       "std      3.399180e+06    3.674129e+06  3.590480e-02    1.585775e-03  \n",
       "min      0.000000e+00    0.000000e+00  0.000000e+00    0.000000e+00  \n",
       "25%      0.000000e+00    0.000000e+00  0.000000e+00    0.000000e+00  \n",
       "50%      1.327057e+05    2.146614e+05  0.000000e+00    0.000000e+00  \n",
       "75%      9.430367e+05    1.111909e+06  0.000000e+00    0.000000e+00  \n",
       "max      3.560159e+08    3.561793e+08  1.000000e+00    1.000000e+00  "
      ]
     },
     "execution_count": 5,
     "metadata": {},
     "output_type": "execute_result"
    }
   ],
   "source": [
    "df.describe()"
   ]
  },
  {
   "cell_type": "markdown",
   "id": "04bd9191",
   "metadata": {},
   "source": [
    "##### 4.  Removing unneccessary features  "
   ]
  },
  {
   "cell_type": "code",
   "execution_count": 6,
   "id": "c8421912",
   "metadata": {},
   "outputs": [],
   "source": [
    "# we have removed these features because step, nameorig, namedest does not contribute in predicting fraudlent cases.\n",
    "df =  df.drop(['step','nameOrig', 'nameDest'], axis = 1)"
   ]
  },
  {
   "cell_type": "code",
   "execution_count": 7,
   "id": "b477b11b",
   "metadata": {},
   "outputs": [
    {
     "name": "stdout",
     "output_type": "stream",
     "text": [
      "<class 'pandas.core.frame.DataFrame'>\n",
      "RangeIndex: 6362620 entries, 0 to 6362619\n",
      "Data columns (total 8 columns):\n",
      " #   Column          Dtype  \n",
      "---  ------          -----  \n",
      " 0   type            object \n",
      " 1   amount          float64\n",
      " 2   oldbalanceOrg   float64\n",
      " 3   newbalanceOrig  float64\n",
      " 4   oldbalanceDest  float64\n",
      " 5   newbalanceDest  float64\n",
      " 6   isFraud         int64  \n",
      " 7   isFlaggedFraud  int64  \n",
      "dtypes: float64(5), int64(2), object(1)\n",
      "memory usage: 388.3+ MB\n"
     ]
    }
   ],
   "source": [
    "df.info()"
   ]
  },
  {
   "cell_type": "markdown",
   "id": "765347cb",
   "metadata": {},
   "source": [
    "#### 5. Converting categorical to numerical "
   ]
  },
  {
   "cell_type": "code",
   "execution_count": 9,
   "id": "e3dc9ae2",
   "metadata": {},
   "outputs": [
    {
     "data": {
      "text/plain": [
       "CASH_OUT    2237500\n",
       "PAYMENT     2151495\n",
       "CASH_IN     1399284\n",
       "TRANSFER     532909\n",
       "DEBIT         41432\n",
       "Name: type, dtype: int64"
      ]
     },
     "execution_count": 9,
     "metadata": {},
     "output_type": "execute_result"
    }
   ],
   "source": [
    "#we can see that the 'type' columns is categorical. Now, converting it into numerical.\n",
    "\n",
    "df['type'].value_counts()"
   ]
  },
  {
   "cell_type": "code",
   "execution_count": 10,
   "id": "a8bd7978",
   "metadata": {},
   "outputs": [],
   "source": [
    "data = { \"CASH_OUT\":0,\n",
    "            \"PAYMENT\":1,\n",
    "            \"CASH_IN\":2,\n",
    "            \"TRANSFER\":3,\n",
    "            \"DEBIT\":4,}\n",
    "\n",
    "# replacing 'type' columns with new data\n",
    "df['type'] = df['type'].map(data)"
   ]
  },
  {
   "cell_type": "code",
   "execution_count": null,
   "id": "9a9051ee",
   "metadata": {},
   "outputs": [],
   "source": []
  },
  {
   "cell_type": "markdown",
   "id": "ca291d7c",
   "metadata": {},
   "source": [
    "#### 6. Missing values "
   ]
  },
  {
   "cell_type": "code",
   "execution_count": 11,
   "id": "055ed5df",
   "metadata": {},
   "outputs": [
    {
     "data": {
      "text/plain": [
       "type              0\n",
       "amount            0\n",
       "oldbalanceOrg     0\n",
       "newbalanceOrig    0\n",
       "oldbalanceDest    0\n",
       "newbalanceDest    0\n",
       "isFraud           0\n",
       "isFlaggedFraud    0\n",
       "dtype: int64"
      ]
     },
     "execution_count": 11,
     "metadata": {},
     "output_type": "execute_result"
    }
   ],
   "source": [
    "df.isna().sum()"
   ]
  },
  {
   "cell_type": "code",
   "execution_count": null,
   "id": "e9fa15ad",
   "metadata": {},
   "outputs": [],
   "source": []
  },
  {
   "cell_type": "markdown",
   "id": "bfe9fbec",
   "metadata": {},
   "source": [
    "There is no missing values in the dataset."
   ]
  },
  {
   "cell_type": "markdown",
   "id": "2cb34638",
   "metadata": {},
   "source": [
    "#### 7. Outliers "
   ]
  },
  {
   "cell_type": "code",
   "execution_count": 12,
   "id": "6c9bd36b",
   "metadata": {
    "scrolled": true
   },
   "outputs": [
    {
     "data": {
      "text/plain": [
       "type                 AxesSubplot(0.125,0.657941;0.227941x0.222059)\n",
       "amount            AxesSubplot(0.398529,0.657941;0.227941x0.222059)\n",
       "oldbalanceOrg     AxesSubplot(0.672059,0.657941;0.227941x0.222059)\n",
       "newbalanceOrig       AxesSubplot(0.125,0.391471;0.227941x0.222059)\n",
       "oldbalanceDest    AxesSubplot(0.398529,0.391471;0.227941x0.222059)\n",
       "newbalanceDest    AxesSubplot(0.672059,0.391471;0.227941x0.222059)\n",
       "isFraud                 AxesSubplot(0.125,0.125;0.227941x0.222059)\n",
       "isFlaggedFraud       AxesSubplot(0.398529,0.125;0.227941x0.222059)\n",
       "dtype: object"
      ]
     },
     "execution_count": 12,
     "metadata": {},
     "output_type": "execute_result"
    },
    {
     "data": {
      "image/png": "[encoded data removed]",
      "text/plain": [
       "<Figure size 720x720 with 9 Axes>"
      ]
     },
     "metadata": {
      "needs_background": "light"
     },
     "output_type": "display_data"
    }
   ],
   "source": [
    "df.plot(kind=\"box\",subplots=True, layout=(3,3),figsize=(10,10))"
   ]
  },
  {
   "cell_type": "code",
   "execution_count": 13,
   "id": "fa208a82",
   "metadata": {},
   "outputs": [],
   "source": [
    "# handling outliers\n",
    "\n",
    "def remove_outliers(df,col):\n",
    "    lower_quantile = df[col].quantile(0.25)\n",
    "    upper_quantile = df[col].quantile(0.75)\n",
    "    IQR = upper_quantile - lower_quantile\n",
    "    lower_whisker = lower_quantile - 1.5 * IQR\n",
    "    upper_whisker = upper_quantile + 1.5 * IQR\n",
    "    temp = df.loc[(df[col]>lower_whisker)&(df[col]<upper_whisker)]\n",
    "    return temp[col]"
   ]
  },
  {
   "cell_type": "code",
   "execution_count": 14,
   "id": "3699879d",
   "metadata": {},
   "outputs": [],
   "source": [
    "df['amount'] = remove_outliers(df,'amount')\n",
    "df['oldbalanceOrg'] = remove_outliers(df,'oldbalanceOrg')\n",
    "df['newbalanceOrig'] = remove_outliers(df,'newbalanceOrig')\n",
    "df['oldbalanceDest'] = remove_outliers(df,'oldbalanceDest')\n",
    "df['newbalanceDest'] = remove_outliers(df,'newbalanceDest')"
   ]
  },
  {
   "cell_type": "markdown",
   "id": "16197774",
   "metadata": {},
   "source": [
    "#### 8. Checking Cooreleation "
   ]
  },
  {
   "cell_type": "code",
   "execution_count": 15,
   "id": "d872986b",
   "metadata": {},
   "outputs": [
    {
     "data": {
      "text/plain": [
       "<AxesSubplot:>"
      ]
     },
     "execution_count": 15,
     "metadata": {},
     "output_type": "execute_result"
    },
    {
     "data": {
      "image/png": "[encoded data removed]",
      "text/plain": [
       "<Figure size 720x360 with 2 Axes>"
      ]
     },
     "metadata": {
      "needs_background": "light"
     },
     "output_type": "display_data"
    }
   ],
   "source": [
    "plt.figure(figsize=(10,5))\n",
    "sns.heatmap(df.corr(),annot=True)"
   ]
  },
  {
   "cell_type": "code",
   "execution_count": 16,
   "id": "6e96cae0",
   "metadata": {},
   "outputs": [
    {
     "data": {
      "text/plain": [
       "0    6354407\n",
       "1       8213\n",
       "Name: isFraud, dtype: int64"
      ]
     },
     "execution_count": 16,
     "metadata": {},
     "output_type": "execute_result"
    }
   ],
   "source": [
    "fraud_count = df['isFraud'].value_counts()\n",
    "fraud_count"
   ]
  },
  {
   "cell_type": "code",
   "execution_count": 17,
   "id": "2b46ba07",
   "metadata": {},
   "outputs": [
    {
     "data": {
      "image/png": "[encoded data removed]",
      "text/plain": [
       "<Figure size 432x288 with 1 Axes>"
      ]
     },
     "metadata": {},
     "output_type": "display_data"
    }
   ],
   "source": [
    "plt.pie(fraud_count,labels=fraud_count.keys(),autopct='%.2f%%');"
   ]
  },
  {
   "cell_type": "markdown",
   "id": "5f89c165",
   "metadata": {},
   "source": [
    "the above graph shows 0.13% fraud transaction"
   ]
  },
  {
   "cell_type": "markdown",
   "id": "fb168b54",
   "metadata": {},
   "source": [
    "Here, We can see that the target column is highly imbalanced. For handling the imabalanced dataset we need to use the SMOTE technique."
   ]
  },
  {
   "cell_type": "code",
   "execution_count": 18,
   "id": "58413162",
   "metadata": {},
   "outputs": [
    {
     "data": {
      "text/plain": [
       "['type',\n",
       " 'amount',\n",
       " 'oldbalanceOrg',\n",
       " 'newbalanceOrig',\n",
       " 'oldbalanceDest',\n",
       " 'newbalanceDest',\n",
       " 'isFraud',\n",
       " 'isFlaggedFraud']"
      ]
     },
     "execution_count": 18,
     "metadata": {},
     "output_type": "execute_result"
    }
   ],
   "source": [
    "cols = list(df.columns)\n",
    "cols"
   ]
  },
  {
   "cell_type": "markdown",
   "id": "5a59e2b7",
   "metadata": {},
   "source": [
    "#### 9. Feature Scaling "
   ]
  },
  {
   "cell_type": "code",
   "execution_count": 19,
   "id": "a6fffc57",
   "metadata": {
    "scrolled": false
   },
   "outputs": [
    {
     "data": {
      "text/html": [
       "<div>\n",
       "<style scoped>\n",
       "    .dataframe tbody tr th:only-of-type {\n",
       "        vertical-align: middle;\n",
       "    }\n",
       "\n",
       "    .dataframe tbody tr th {\n",
       "        vertical-align: top;\n",
       "    }\n",
       "\n",
       "    .dataframe thead th {\n",
       "        text-align: right;\n",
       "    }\n",
       "</style>\n",
       "<table border=\"1\" class=\"dataframe\">\n",
       "  <thead>\n",
       "    <tr style=\"text-align: right;\">\n",
       "      <th></th>\n",
       "      <th>type</th>\n",
       "      <th>amount</th>\n",
       "      <th>oldbalanceOrg</th>\n",
       "      <th>newbalanceOrig</th>\n",
       "      <th>oldbalanceDest</th>\n",
       "      <th>newbalanceDest</th>\n",
       "      <th>isFraud</th>\n",
       "      <th>isFlaggedFraud</th>\n",
       "    </tr>\n",
       "  </thead>\n",
       "  <tbody>\n",
       "    <tr>\n",
       "      <th>0</th>\n",
       "      <td>0.25</td>\n",
       "      <td>0.019612</td>\n",
       "      <td>0.634155</td>\n",
       "      <td>0.444471</td>\n",
       "      <td>0.000000</td>\n",
       "      <td>0.0</td>\n",
       "      <td>0.0</td>\n",
       "      <td>0.0</td>\n",
       "    </tr>\n",
       "    <tr>\n",
       "      <th>1</th>\n",
       "      <td>0.25</td>\n",
       "      <td>0.003716</td>\n",
       "      <td>0.079202</td>\n",
       "      <td>0.053750</td>\n",
       "      <td>0.000000</td>\n",
       "      <td>0.0</td>\n",
       "      <td>0.0</td>\n",
       "      <td>0.0</td>\n",
       "    </tr>\n",
       "    <tr>\n",
       "      <th>2</th>\n",
       "      <td>0.75</td>\n",
       "      <td>0.000361</td>\n",
       "      <td>0.000675</td>\n",
       "      <td>0.000000</td>\n",
       "      <td>0.000000</td>\n",
       "      <td>0.0</td>\n",
       "      <td>1.0</td>\n",
       "      <td>0.0</td>\n",
       "    </tr>\n",
       "    <tr>\n",
       "      <th>3</th>\n",
       "      <td>0.00</td>\n",
       "      <td>0.000361</td>\n",
       "      <td>0.000675</td>\n",
       "      <td>0.000000</td>\n",
       "      <td>0.008985</td>\n",
       "      <td>0.0</td>\n",
       "      <td>1.0</td>\n",
       "      <td>0.0</td>\n",
       "    </tr>\n",
       "    <tr>\n",
       "      <th>4</th>\n",
       "      <td>0.25</td>\n",
       "      <td>0.023256</td>\n",
       "      <td>0.154886</td>\n",
       "      <td>0.082868</td>\n",
       "      <td>0.000000</td>\n",
       "      <td>0.0</td>\n",
       "      <td>0.0</td>\n",
       "      <td>0.0</td>\n",
       "    </tr>\n",
       "  </tbody>\n",
       "</table>\n",
       "</div>"
      ],
      "text/plain": [
       "   type    amount  oldbalanceOrg  newbalanceOrig  oldbalanceDest  \\\n",
       "0  0.25  0.019612       0.634155        0.444471        0.000000   \n",
       "1  0.25  0.003716       0.079202        0.053750        0.000000   \n",
       "2  0.75  0.000361       0.000675        0.000000        0.000000   \n",
       "3  0.00  0.000361       0.000675        0.000000        0.008985   \n",
       "4  0.25  0.023256       0.154886        0.082868        0.000000   \n",
       "\n",
       "   newbalanceDest  isFraud  isFlaggedFraud  \n",
       "0             0.0      0.0             0.0  \n",
       "1             0.0      0.0             0.0  \n",
       "2             0.0      1.0             0.0  \n",
       "3             0.0      1.0             0.0  \n",
       "4             0.0      0.0             0.0  "
      ]
     },
     "execution_count": 19,
     "metadata": {},
     "output_type": "execute_result"
    }
   ],
   "source": [
    "scaler = MinMaxScaler()\n",
    "df = scaler.fit_transform(df)\n",
    "df = pd.DataFrame(df,columns=cols)\n",
    "df.head()"
   ]
  },
  {
   "cell_type": "markdown",
   "id": "387f6b73",
   "metadata": {},
   "source": [
    "#### 10. Dividing dataset into x and y"
   ]
  },
  {
   "cell_type": "code",
   "execution_count": 20,
   "id": "ce9fe8ee",
   "metadata": {},
   "outputs": [],
   "source": [
    "x  = df.drop('isFraud', axis='columns')  #features columns\n",
    "y = df['isFraud']                        #target column"
   ]
  },
  {
   "cell_type": "markdown",
   "id": "7c3e26dc",
   "metadata": {},
   "source": [
    "#### 11. column_transformations to convert all columns into numerical form "
   ]
  },
  {
   "cell_type": "code",
   "execution_count": 21,
   "id": "c7450a6a",
   "metadata": {},
   "outputs": [],
   "source": [
    "#Applying LabelEncoder to encode the target column\n",
    "\n",
    "encode = preprocessing.LabelEncoder()   #making an obj of LabelEncoder()\n",
    "df['isFraud'] = encode.fit_transform(df['isFraud'])  #applying LabelEncoding through fit_transform"
   ]
  },
  {
   "cell_type": "code",
   "execution_count": 22,
   "id": "91a4e4ec",
   "metadata": {},
   "outputs": [
    {
     "data": {
      "text/plain": [
       "ColumnTransformer(remainder='passthrough',\n",
       "                  transformers=[('trs1', OneHotEncoder(),\n",
       "                                 ['type', 'amount', 'oldbalanceOrg',\n",
       "                                  'newbalanceOrig', 'oldbalanceDest',\n",
       "                                  'newbalanceDest', 'isFlaggedFraud'])])"
      ]
     },
     "execution_count": 22,
     "metadata": {},
     "output_type": "execute_result"
    }
   ],
   "source": [
    "#Column Transformation (Categorical to Numerical)\n",
    "\n",
    "transformer1 = ColumnTransformer(transformers=[\n",
    "    ('trs1',OneHotEncoder(),['type','amount',\"oldbalanceOrg\",\"newbalanceOrig\", \"oldbalanceDest\", \"newbalanceDest\",\"isFlaggedFraud\"])\n",
    "],remainder='passthrough')\n",
    "transformer1"
   ]
  },
  {
   "cell_type": "code",
   "execution_count": null,
   "id": "75ed0169",
   "metadata": {},
   "outputs": [],
   "source": []
  },
  {
   "cell_type": "code",
   "execution_count": 23,
   "id": "6888a786",
   "metadata": {},
   "outputs": [],
   "source": [
    "x = transformer1.fit_transform(x)"
   ]
  },
  {
   "cell_type": "markdown",
   "id": "479ec9ff",
   "metadata": {},
   "source": [
    "#### 11.  Applying SMOTE technique to handle imabalanced data "
   ]
  },
  {
   "cell_type": "code",
   "execution_count": 24,
   "id": "bab9730a",
   "metadata": {},
   "outputs": [
    {
     "data": {
      "text/plain": [
       "0.0    6354407\n",
       "1.0    6354407\n",
       "Name: isFraud, dtype: int64"
      ]
     },
     "execution_count": 24,
     "metadata": {},
     "output_type": "execute_result"
    }
   ],
   "source": [
    "over_sample = SMOTE(random_state=0)\n",
    "x,y = over_sample.fit_resample(x,y)\n",
    "\n",
    "y.value_counts()"
   ]
  },
  {
   "cell_type": "code",
   "execution_count": 25,
   "id": "d7e40503",
   "metadata": {},
   "outputs": [
    {
     "data": {
      "text/plain": [
       "(12708814, 13104315)"
      ]
     },
     "execution_count": 25,
     "metadata": {},
     "output_type": "execute_result"
    }
   ],
   "source": [
    "x.shape"
   ]
  },
  {
   "cell_type": "code",
   "execution_count": 26,
   "id": "0b212e9c",
   "metadata": {},
   "outputs": [
    {
     "data": {
      "text/plain": [
       "(12708814,)"
      ]
     },
     "execution_count": 26,
     "metadata": {},
     "output_type": "execute_result"
    }
   ],
   "source": [
    "y.shape"
   ]
  },
  {
   "cell_type": "markdown",
   "id": "16ee8626",
   "metadata": {},
   "source": [
    "Now the data is balanced"
   ]
  },
  {
   "cell_type": "markdown",
   "id": "685400bf",
   "metadata": {},
   "source": [
    "#### 12. Splitting Dataset into train and test "
   ]
  },
  {
   "cell_type": "code",
   "execution_count": 27,
   "id": "9495ab2d",
   "metadata": {},
   "outputs": [],
   "source": [
    "x_train, x_test, y_train, y_test = train_test_split(x, y, test_size=0.20, random_state=10)"
   ]
  },
  {
   "cell_type": "markdown",
   "id": "90cb03b4",
   "metadata": {},
   "source": [
    "#### 13.  Model Building "
   ]
  },
  {
   "cell_type": "markdown",
   "id": "77daca31",
   "metadata": {},
   "source": [
    "##### 1. Logistic Regression "
   ]
  },
  {
   "cell_type": "code",
   "execution_count": 28,
   "id": "1adf3987",
   "metadata": {},
   "outputs": [
    {
     "data": {
      "text/plain": [
       "LogisticRegression()"
      ]
     },
     "execution_count": 28,
     "metadata": {},
     "output_type": "execute_result"
    }
   ],
   "source": [
    "lr_model = LogisticRegression()\n",
    "lr_model.fit(x_train,y_train)"
   ]
  },
  {
   "cell_type": "code",
   "execution_count": 29,
   "id": "6de9e923",
   "metadata": {},
   "outputs": [
    {
     "name": "stdout",
     "output_type": "stream",
     "text": [
      "ROC AUC Score: 0.9987939587537041\n",
      "F1 Score: 0.9987949723700449\n",
      "Confusion Matrix:\n",
      " [[1268060    3044]\n",
      " [     22 1270637]]\n",
      "Classification Report:\n",
      "               precision    recall  f1-score   support\n",
      "\n",
      "         0.0       1.00      1.00      1.00   1271104\n",
      "         1.0       1.00      1.00      1.00   1270659\n",
      "\n",
      "    accuracy                           1.00   2541763\n",
      "   macro avg       1.00      1.00      1.00   2541763\n",
      "weighted avg       1.00      1.00      1.00   2541763\n",
      "\n",
      "Accuracy Score: 0.9987937506368612\n"
     ]
    }
   ],
   "source": [
    "y_pred = lr_model.predict(x_test)\n",
    "print('ROC AUC Score:',roc_auc_score(y_test,y_pred))\n",
    "print('F1 Score:',f1_score(y_test,y_pred))\n",
    "print('Confusion Matrix:\\n',confusion_matrix(y_test,y_pred))\n",
    "print('Classification Report:\\n',classification_report(y_test,y_pred))\n",
    "print('Accuracy Score:',accuracy_score(y_test,y_pred))"
   ]
  },
  {
   "cell_type": "markdown",
   "id": "dcdbae35",
   "metadata": {},
   "source": [
    "#### Questions"
   ]
  },
  {
   "cell_type": "markdown",
   "id": "faa982ae",
   "metadata": {},
   "source": [
    "###### 1. Data cleaning including missing values, outliers and multi-collinearity."
   ]
  },
  {
   "cell_type": "markdown",
   "id": "610d0adc",
   "metadata": {},
   "source": [
    "Dataset contains no missing values.\n",
    "\n",
    "There are some features which has outliers so we handled the outliers."
   ]
  },
  {
   "cell_type": "markdown",
   "id": "2353cd56",
   "metadata": {},
   "source": [
    "###### 2. Describe your fraud detection model in elaboration. "
   ]
  },
  {
   "cell_type": "markdown",
   "id": "8eeb1799",
   "metadata": {},
   "source": [
    ">Removing unneccesary columns ('step','nameOrig', 'nameDest') from the dataset because there is no much relation with the target column\n",
    "\n",
    ">check for missing values and outliers handling outliers.\n",
    "\n",
    ">Scaling the dataset.\n",
    "\n",
    ">Applying SMOTE technique on target column for handling imabalanced dataset.\n",
    "\n",
    ">Splitting dataset into train & test.\n",
    "\n",
    ">Applying some ML algorithms for making a best model.\n",
    "\n",
    ">Calulating their Accuracy, Precision, Recall, F1_Score and Confusion Matrix."
   ]
  },
  {
   "cell_type": "markdown",
   "id": "0c1e0d05",
   "metadata": {},
   "source": [
    "###### 3. How did you select variables to be included in the model? "
   ]
  },
  {
   "cell_type": "markdown",
   "id": "143c6cfd",
   "metadata": {},
   "source": [
    "I dropped the unnecessary columns which are not gives any information for model building "
   ]
  },
  {
   "cell_type": "markdown",
   "id": "645b54bf",
   "metadata": {},
   "source": [
    "###### 4. Demonstrate the performance of the model by using best set of tools. "
   ]
  },
  {
   "cell_type": "markdown",
   "id": "bcaba08b",
   "metadata": {},
   "source": [
    "I have provided various metrics like accuracy, precision, recall, f1_score and confusion matrix which are demonstrate the overall performance of the model."
   ]
  },
  {
   "cell_type": "markdown",
   "id": "b3701d2e",
   "metadata": {},
   "source": [
    "###### 5. What are the key factors that predict fraudulent customer?"
   ]
  },
  {
   "cell_type": "markdown",
   "id": "57de7388",
   "metadata": {},
   "source": [
    "important key factors which predict the fraudulent customer are type', 'amount', 'oldbalanceorig, newbalanceOrig', 'oldbalanceDest', /'newbalanceDest', 'isFlaggedFraud'"
   ]
  },
  {
   "cell_type": "markdown",
   "id": "96aa7918",
   "metadata": {},
   "source": [
    "###### 6. /Do these factors make sense? If yes, How? If not, How not?// "
   ]
  },
  {
   "cell_type": "markdown",
   "id": "f20e3f5d",
   "metadata": {},
   "source": [
    "Yes, Because these key factors hold the actual and sufficient information for any fraudulent transaction."
   ]
  }
 ],
 "metadata": {
  "kernelspec": {
   "display_name": "Python 3 (ipykernel)",
   "language": "python",
   "name": "python3"
  },
  "language_info": {
   "codemirror_mode": {
    "name": "ipython",
    "version": 3
   },
   "file_extension": ".py",
   "mimetype": "text/x-python",
   "name": "python",
   "nbconvert_exporter": "python",
   "pygments_lexer": "ipython3",
   "version": "3.9.12"
  }
 },
 "nbformat": 4,
 "nbformat_minor": 5
}
